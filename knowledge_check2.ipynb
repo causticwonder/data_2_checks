{
 "cells": [
  {
   "cell_type": "markdown",
   "metadata": {},
   "source": [
    "import all modules we'll need to clean data"
   ]
  },
  {
   "cell_type": "code",
   "execution_count": 339,
   "metadata": {},
   "outputs": [],
   "source": [
    "import pandas as pd\n",
    "import json\n",
    "import zipfile\n",
    "\n"
   ]
  },
  {
   "attachments": {},
   "cell_type": "markdown",
   "metadata": {},
   "source": [
    "find and import a dataset. I chose LFPL Collection data from https://data.louisvilleky.gov/datasets/LOJIC::louisville-metro-ky-library-collection-inventory-/explore\n",
    "I had to save it to a zip file to upload to github because it's gigantic. "
   ]
  },
  {
   "cell_type": "code",
   "execution_count": 340,
   "metadata": {},
   "outputs": [],
   "source": [
    "df_zip = zipfile. ZipFile('lou_metro_library_collection.zip')\n",
    "df = pd.read_csv(df_zip.open('lou_metro_library_collection.csv'))"
   ]
  },
  {
   "cell_type": "code",
   "execution_count": 341,
   "metadata": {},
   "outputs": [],
   "source": [
    "df = pd.read_csv('lou_metro_library_collection.csv')"
   ]
  },
  {
   "cell_type": "code",
   "execution_count": 342,
   "metadata": {},
   "outputs": [
    {
     "data": {
      "text/plain": [
       "(1657555, 11)"
      ]
     },
     "execution_count": 342,
     "metadata": {},
     "output_type": "execute_result"
    }
   ],
   "source": [
    "df.shape"
   ]
  },
  {
   "cell_type": "code",
   "execution_count": 343,
   "metadata": {},
   "outputs": [
    {
     "data": {
      "text/html": [
       "<div>\n",
       "<style scoped>\n",
       "    .dataframe tbody tr th:only-of-type {\n",
       "        vertical-align: middle;\n",
       "    }\n",
       "\n",
       "    .dataframe tbody tr th {\n",
       "        vertical-align: top;\n",
       "    }\n",
       "\n",
       "    .dataframe thead th {\n",
       "        text-align: right;\n",
       "    }\n",
       "</style>\n",
       "<table border=\"1\" class=\"dataframe\">\n",
       "  <thead>\n",
       "    <tr style=\"text-align: right;\">\n",
       "      <th></th>\n",
       "      <th>BibNum</th>\n",
       "      <th>Title</th>\n",
       "      <th>Author</th>\n",
       "      <th>ISBN</th>\n",
       "      <th>PublicationYear</th>\n",
       "      <th>ItemType</th>\n",
       "      <th>ItemCollection</th>\n",
       "      <th>ItemLocation</th>\n",
       "      <th>ItemPrice</th>\n",
       "      <th>ReportDate</th>\n",
       "      <th>ObjectId</th>\n",
       "    </tr>\n",
       "  </thead>\n",
       "  <tbody>\n",
       "    <tr>\n",
       "      <th>0</th>\n",
       "      <td>707409</td>\n",
       "      <td>Jeff Immelt and the new GE way : innovation, t...</td>\n",
       "      <td>Magee, David, 1965-</td>\n",
       "      <td>9.780072e+12</td>\n",
       "      <td>2009</td>\n",
       "      <td>Book</td>\n",
       "      <td>Adult Non-Fiction</td>\n",
       "      <td>Main</td>\n",
       "      <td>25.95</td>\n",
       "      <td>2022/07/01 04:00:00+00</td>\n",
       "      <td>1</td>\n",
       "    </tr>\n",
       "    <tr>\n",
       "      <th>1</th>\n",
       "      <td>1341361</td>\n",
       "      <td>McGraw-Hill's American idioms dictionary</td>\n",
       "      <td>Spears, Richard A.</td>\n",
       "      <td>9.780071e+12</td>\n",
       "      <td>2007</td>\n",
       "      <td>Book</td>\n",
       "      <td>ELL Collection</td>\n",
       "      <td>South Central</td>\n",
       "      <td>20.00</td>\n",
       "      <td>2022/07/01 04:00:00+00</td>\n",
       "      <td>2</td>\n",
       "    </tr>\n",
       "    <tr>\n",
       "      <th>2</th>\n",
       "      <td>707411</td>\n",
       "      <td>Robin rescues dinner : 52 weeks of quick-fix m...</td>\n",
       "      <td>Miller, Robin, 1964-</td>\n",
       "      <td>9.780307e+12</td>\n",
       "      <td>2009</td>\n",
       "      <td>Book</td>\n",
       "      <td>Adult Non-Fiction</td>\n",
       "      <td>Southwest</td>\n",
       "      <td>19.99</td>\n",
       "      <td>2022/07/01 04:00:00+00</td>\n",
       "      <td>3</td>\n",
       "    </tr>\n",
       "    <tr>\n",
       "      <th>3</th>\n",
       "      <td>1341362</td>\n",
       "      <td>McGraw-Hill's essential ESL grammar : a handbo...</td>\n",
       "      <td>Lester, Mark.</td>\n",
       "      <td>9.780071e+12</td>\n",
       "      <td>2008</td>\n",
       "      <td>Book</td>\n",
       "      <td>ELL Collection</td>\n",
       "      <td>South Central</td>\n",
       "      <td>20.00</td>\n",
       "      <td>2022/07/01 04:00:00+00</td>\n",
       "      <td>4</td>\n",
       "    </tr>\n",
       "    <tr>\n",
       "      <th>4</th>\n",
       "      <td>707411</td>\n",
       "      <td>Robin rescues dinner : 52 weeks of quick-fix m...</td>\n",
       "      <td>Miller, Robin, 1964-</td>\n",
       "      <td>9.780307e+12</td>\n",
       "      <td>2009</td>\n",
       "      <td>Book</td>\n",
       "      <td>Adult Non-Fiction</td>\n",
       "      <td>Southwest</td>\n",
       "      <td>19.99</td>\n",
       "      <td>2022/07/01 04:00:00+00</td>\n",
       "      <td>5</td>\n",
       "    </tr>\n",
       "  </tbody>\n",
       "</table>\n",
       "</div>"
      ],
      "text/plain": [
       "    BibNum                                              Title  \\\n",
       "0   707409  Jeff Immelt and the new GE way : innovation, t...   \n",
       "1  1341361           McGraw-Hill's American idioms dictionary   \n",
       "2   707411  Robin rescues dinner : 52 weeks of quick-fix m...   \n",
       "3  1341362  McGraw-Hill's essential ESL grammar : a handbo...   \n",
       "4   707411  Robin rescues dinner : 52 weeks of quick-fix m...   \n",
       "\n",
       "                 Author          ISBN  PublicationYear ItemType  \\\n",
       "0   Magee, David, 1965-  9.780072e+12             2009     Book   \n",
       "1    Spears, Richard A.  9.780071e+12             2007     Book   \n",
       "2  Miller, Robin, 1964-  9.780307e+12             2009     Book   \n",
       "3         Lester, Mark.  9.780071e+12             2008     Book   \n",
       "4  Miller, Robin, 1964-  9.780307e+12             2009     Book   \n",
       "\n",
       "      ItemCollection   ItemLocation  ItemPrice              ReportDate  \\\n",
       "0  Adult Non-Fiction           Main      25.95  2022/07/01 04:00:00+00   \n",
       "1     ELL Collection  South Central      20.00  2022/07/01 04:00:00+00   \n",
       "2  Adult Non-Fiction      Southwest      19.99  2022/07/01 04:00:00+00   \n",
       "3     ELL Collection  South Central      20.00  2022/07/01 04:00:00+00   \n",
       "4  Adult Non-Fiction      Southwest      19.99  2022/07/01 04:00:00+00   \n",
       "\n",
       "   ObjectId  \n",
       "0         1  \n",
       "1         2  \n",
       "2         3  \n",
       "3         4  \n",
       "4         5  "
      ]
     },
     "execution_count": 343,
     "metadata": {},
     "output_type": "execute_result"
    }
   ],
   "source": [
    "df.head()"
   ]
  },
  {
   "cell_type": "code",
   "execution_count": 344,
   "metadata": {},
   "outputs": [
    {
     "data": {
      "text/plain": [
       "Index(['BibNum', 'Title', 'Author', 'ISBN', 'PublicationYear', 'ItemType',\n",
       "       'ItemCollection', 'ItemLocation', 'ItemPrice', 'ReportDate',\n",
       "       'ObjectId'],\n",
       "      dtype='object')"
      ]
     },
     "execution_count": 344,
     "metadata": {},
     "output_type": "execute_result"
    }
   ],
   "source": [
    "df.columns"
   ]
  },
  {
   "attachments": {},
   "cell_type": "markdown",
   "metadata": {},
   "source": [
    "The ISBN column is throwing Excel number errors. I hate these in Excel format. What dype is it? How can I fix this? "
   ]
  },
  {
   "cell_type": "code",
   "execution_count": 345,
   "metadata": {},
   "outputs": [
    {
     "data": {
      "text/plain": [
       "dtype('float64')"
      ]
     },
     "execution_count": 345,
     "metadata": {},
     "output_type": "execute_result"
    }
   ],
   "source": [
    "df['ISBN'].dtypes"
   ]
  },
  {
   "attachments": {},
   "cell_type": "markdown",
   "metadata": {},
   "source": [
    "Looks like it's an object type. Can I convert the ISBN column to an integer? (The answer is no.) Let's try converting to a string. "
   ]
  },
  {
   "cell_type": "code",
   "execution_count": 346,
   "metadata": {},
   "outputs": [],
   "source": [
    "df['ISBN'] = df['ISBN'].astype('str')"
   ]
  },
  {
   "cell_type": "code",
   "execution_count": 347,
   "metadata": {},
   "outputs": [
    {
     "data": {
      "text/html": [
       "<div>\n",
       "<style scoped>\n",
       "    .dataframe tbody tr th:only-of-type {\n",
       "        vertical-align: middle;\n",
       "    }\n",
       "\n",
       "    .dataframe tbody tr th {\n",
       "        vertical-align: top;\n",
       "    }\n",
       "\n",
       "    .dataframe thead th {\n",
       "        text-align: right;\n",
       "    }\n",
       "</style>\n",
       "<table border=\"1\" class=\"dataframe\">\n",
       "  <thead>\n",
       "    <tr style=\"text-align: right;\">\n",
       "      <th></th>\n",
       "      <th>BibNum</th>\n",
       "      <th>Title</th>\n",
       "      <th>Author</th>\n",
       "      <th>ISBN</th>\n",
       "      <th>PublicationYear</th>\n",
       "      <th>ItemType</th>\n",
       "      <th>ItemCollection</th>\n",
       "      <th>ItemLocation</th>\n",
       "      <th>ItemPrice</th>\n",
       "      <th>ReportDate</th>\n",
       "      <th>ObjectId</th>\n",
       "    </tr>\n",
       "  </thead>\n",
       "  <tbody>\n",
       "    <tr>\n",
       "      <th>0</th>\n",
       "      <td>707409</td>\n",
       "      <td>Jeff Immelt and the new GE way : innovation, t...</td>\n",
       "      <td>Magee, David, 1965-</td>\n",
       "      <td>9780071605878.0</td>\n",
       "      <td>2009</td>\n",
       "      <td>Book</td>\n",
       "      <td>Adult Non-Fiction</td>\n",
       "      <td>Main</td>\n",
       "      <td>25.95</td>\n",
       "      <td>2022/07/01 04:00:00+00</td>\n",
       "      <td>1</td>\n",
       "    </tr>\n",
       "    <tr>\n",
       "      <th>1</th>\n",
       "      <td>1341361</td>\n",
       "      <td>McGraw-Hill's American idioms dictionary</td>\n",
       "      <td>Spears, Richard A.</td>\n",
       "      <td>9780071478939.0</td>\n",
       "      <td>2007</td>\n",
       "      <td>Book</td>\n",
       "      <td>ELL Collection</td>\n",
       "      <td>South Central</td>\n",
       "      <td>20.00</td>\n",
       "      <td>2022/07/01 04:00:00+00</td>\n",
       "      <td>2</td>\n",
       "    </tr>\n",
       "    <tr>\n",
       "      <th>2</th>\n",
       "      <td>707411</td>\n",
       "      <td>Robin rescues dinner : 52 weeks of quick-fix m...</td>\n",
       "      <td>Miller, Robin, 1964-</td>\n",
       "      <td>9780307451408.0</td>\n",
       "      <td>2009</td>\n",
       "      <td>Book</td>\n",
       "      <td>Adult Non-Fiction</td>\n",
       "      <td>Southwest</td>\n",
       "      <td>19.99</td>\n",
       "      <td>2022/07/01 04:00:00+00</td>\n",
       "      <td>3</td>\n",
       "    </tr>\n",
       "    <tr>\n",
       "      <th>3</th>\n",
       "      <td>1341362</td>\n",
       "      <td>McGraw-Hill's essential ESL grammar : a handbo...</td>\n",
       "      <td>Lester, Mark.</td>\n",
       "      <td>9780071496421.0</td>\n",
       "      <td>2008</td>\n",
       "      <td>Book</td>\n",
       "      <td>ELL Collection</td>\n",
       "      <td>South Central</td>\n",
       "      <td>20.00</td>\n",
       "      <td>2022/07/01 04:00:00+00</td>\n",
       "      <td>4</td>\n",
       "    </tr>\n",
       "    <tr>\n",
       "      <th>4</th>\n",
       "      <td>707411</td>\n",
       "      <td>Robin rescues dinner : 52 weeks of quick-fix m...</td>\n",
       "      <td>Miller, Robin, 1964-</td>\n",
       "      <td>9780307451408.0</td>\n",
       "      <td>2009</td>\n",
       "      <td>Book</td>\n",
       "      <td>Adult Non-Fiction</td>\n",
       "      <td>Southwest</td>\n",
       "      <td>19.99</td>\n",
       "      <td>2022/07/01 04:00:00+00</td>\n",
       "      <td>5</td>\n",
       "    </tr>\n",
       "  </tbody>\n",
       "</table>\n",
       "</div>"
      ],
      "text/plain": [
       "    BibNum                                              Title  \\\n",
       "0   707409  Jeff Immelt and the new GE way : innovation, t...   \n",
       "1  1341361           McGraw-Hill's American idioms dictionary   \n",
       "2   707411  Robin rescues dinner : 52 weeks of quick-fix m...   \n",
       "3  1341362  McGraw-Hill's essential ESL grammar : a handbo...   \n",
       "4   707411  Robin rescues dinner : 52 weeks of quick-fix m...   \n",
       "\n",
       "                 Author             ISBN  PublicationYear ItemType  \\\n",
       "0   Magee, David, 1965-  9780071605878.0             2009     Book   \n",
       "1    Spears, Richard A.  9780071478939.0             2007     Book   \n",
       "2  Miller, Robin, 1964-  9780307451408.0             2009     Book   \n",
       "3         Lester, Mark.  9780071496421.0             2008     Book   \n",
       "4  Miller, Robin, 1964-  9780307451408.0             2009     Book   \n",
       "\n",
       "      ItemCollection   ItemLocation  ItemPrice              ReportDate  \\\n",
       "0  Adult Non-Fiction           Main      25.95  2022/07/01 04:00:00+00   \n",
       "1     ELL Collection  South Central      20.00  2022/07/01 04:00:00+00   \n",
       "2  Adult Non-Fiction      Southwest      19.99  2022/07/01 04:00:00+00   \n",
       "3     ELL Collection  South Central      20.00  2022/07/01 04:00:00+00   \n",
       "4  Adult Non-Fiction      Southwest      19.99  2022/07/01 04:00:00+00   \n",
       "\n",
       "   ObjectId  \n",
       "0         1  \n",
       "1         2  \n",
       "2         3  \n",
       "3         4  \n",
       "4         5  "
      ]
     },
     "execution_count": 347,
     "metadata": {},
     "output_type": "execute_result"
    }
   ],
   "source": [
    "df.head()"
   ]
  },
  {
   "attachments": {},
   "cell_type": "markdown",
   "metadata": {},
   "source": [
    "That works. But now I have a trailing decimal point. How do I eliminate that? Can I strip the trailing .0?"
   ]
  },
  {
   "cell_type": "code",
   "execution_count": 348,
   "metadata": {},
   "outputs": [
    {
     "data": {
      "text/plain": [
       "0          9780071605878\n",
       "1          9780071478939\n",
       "2          9780307451408\n",
       "3          9780071496421\n",
       "4          9780307451408\n",
       "               ...      \n",
       "1657550    9781982168056\n",
       "1657551    9781982168056\n",
       "1657552    9781982168056\n",
       "1657553    9781982168056\n",
       "1657554    9780692619803\n",
       "Name: ISBN, Length: 1657555, dtype: object"
      ]
     },
     "execution_count": 348,
     "metadata": {},
     "output_type": "execute_result"
    }
   ],
   "source": [
    "df['ISBN'].str.strip('.0')"
   ]
  },
  {
   "attachments": {},
   "cell_type": "markdown",
   "metadata": {},
   "source": [
    "That works and now the numbers look like actual ISBN numbers again. Now I need to save this new data inplace somehow? "
   ]
  },
  {
   "cell_type": "code",
   "execution_count": 349,
   "metadata": {},
   "outputs": [],
   "source": [
    "df['ISBN'] = df['ISBN'].str.strip('.0')"
   ]
  },
  {
   "cell_type": "code",
   "execution_count": 350,
   "metadata": {},
   "outputs": [
    {
     "data": {
      "text/html": [
       "<div>\n",
       "<style scoped>\n",
       "    .dataframe tbody tr th:only-of-type {\n",
       "        vertical-align: middle;\n",
       "    }\n",
       "\n",
       "    .dataframe tbody tr th {\n",
       "        vertical-align: top;\n",
       "    }\n",
       "\n",
       "    .dataframe thead th {\n",
       "        text-align: right;\n",
       "    }\n",
       "</style>\n",
       "<table border=\"1\" class=\"dataframe\">\n",
       "  <thead>\n",
       "    <tr style=\"text-align: right;\">\n",
       "      <th></th>\n",
       "      <th>BibNum</th>\n",
       "      <th>Title</th>\n",
       "      <th>Author</th>\n",
       "      <th>ISBN</th>\n",
       "      <th>PublicationYear</th>\n",
       "      <th>ItemType</th>\n",
       "      <th>ItemCollection</th>\n",
       "      <th>ItemLocation</th>\n",
       "      <th>ItemPrice</th>\n",
       "      <th>ReportDate</th>\n",
       "      <th>ObjectId</th>\n",
       "    </tr>\n",
       "  </thead>\n",
       "  <tbody>\n",
       "    <tr>\n",
       "      <th>0</th>\n",
       "      <td>707409</td>\n",
       "      <td>Jeff Immelt and the new GE way : innovation, t...</td>\n",
       "      <td>Magee, David, 1965-</td>\n",
       "      <td>9780071605878</td>\n",
       "      <td>2009</td>\n",
       "      <td>Book</td>\n",
       "      <td>Adult Non-Fiction</td>\n",
       "      <td>Main</td>\n",
       "      <td>25.95</td>\n",
       "      <td>2022/07/01 04:00:00+00</td>\n",
       "      <td>1</td>\n",
       "    </tr>\n",
       "    <tr>\n",
       "      <th>1</th>\n",
       "      <td>1341361</td>\n",
       "      <td>McGraw-Hill's American idioms dictionary</td>\n",
       "      <td>Spears, Richard A.</td>\n",
       "      <td>9780071478939</td>\n",
       "      <td>2007</td>\n",
       "      <td>Book</td>\n",
       "      <td>ELL Collection</td>\n",
       "      <td>South Central</td>\n",
       "      <td>20.00</td>\n",
       "      <td>2022/07/01 04:00:00+00</td>\n",
       "      <td>2</td>\n",
       "    </tr>\n",
       "    <tr>\n",
       "      <th>2</th>\n",
       "      <td>707411</td>\n",
       "      <td>Robin rescues dinner : 52 weeks of quick-fix m...</td>\n",
       "      <td>Miller, Robin, 1964-</td>\n",
       "      <td>9780307451408</td>\n",
       "      <td>2009</td>\n",
       "      <td>Book</td>\n",
       "      <td>Adult Non-Fiction</td>\n",
       "      <td>Southwest</td>\n",
       "      <td>19.99</td>\n",
       "      <td>2022/07/01 04:00:00+00</td>\n",
       "      <td>3</td>\n",
       "    </tr>\n",
       "    <tr>\n",
       "      <th>3</th>\n",
       "      <td>1341362</td>\n",
       "      <td>McGraw-Hill's essential ESL grammar : a handbo...</td>\n",
       "      <td>Lester, Mark.</td>\n",
       "      <td>9780071496421</td>\n",
       "      <td>2008</td>\n",
       "      <td>Book</td>\n",
       "      <td>ELL Collection</td>\n",
       "      <td>South Central</td>\n",
       "      <td>20.00</td>\n",
       "      <td>2022/07/01 04:00:00+00</td>\n",
       "      <td>4</td>\n",
       "    </tr>\n",
       "    <tr>\n",
       "      <th>4</th>\n",
       "      <td>707411</td>\n",
       "      <td>Robin rescues dinner : 52 weeks of quick-fix m...</td>\n",
       "      <td>Miller, Robin, 1964-</td>\n",
       "      <td>9780307451408</td>\n",
       "      <td>2009</td>\n",
       "      <td>Book</td>\n",
       "      <td>Adult Non-Fiction</td>\n",
       "      <td>Southwest</td>\n",
       "      <td>19.99</td>\n",
       "      <td>2022/07/01 04:00:00+00</td>\n",
       "      <td>5</td>\n",
       "    </tr>\n",
       "  </tbody>\n",
       "</table>\n",
       "</div>"
      ],
      "text/plain": [
       "    BibNum                                              Title  \\\n",
       "0   707409  Jeff Immelt and the new GE way : innovation, t...   \n",
       "1  1341361           McGraw-Hill's American idioms dictionary   \n",
       "2   707411  Robin rescues dinner : 52 weeks of quick-fix m...   \n",
       "3  1341362  McGraw-Hill's essential ESL grammar : a handbo...   \n",
       "4   707411  Robin rescues dinner : 52 weeks of quick-fix m...   \n",
       "\n",
       "                 Author           ISBN  PublicationYear ItemType  \\\n",
       "0   Magee, David, 1965-  9780071605878             2009     Book   \n",
       "1    Spears, Richard A.  9780071478939             2007     Book   \n",
       "2  Miller, Robin, 1964-  9780307451408             2009     Book   \n",
       "3         Lester, Mark.  9780071496421             2008     Book   \n",
       "4  Miller, Robin, 1964-  9780307451408             2009     Book   \n",
       "\n",
       "      ItemCollection   ItemLocation  ItemPrice              ReportDate  \\\n",
       "0  Adult Non-Fiction           Main      25.95  2022/07/01 04:00:00+00   \n",
       "1     ELL Collection  South Central      20.00  2022/07/01 04:00:00+00   \n",
       "2  Adult Non-Fiction      Southwest      19.99  2022/07/01 04:00:00+00   \n",
       "3     ELL Collection  South Central      20.00  2022/07/01 04:00:00+00   \n",
       "4  Adult Non-Fiction      Southwest      19.99  2022/07/01 04:00:00+00   \n",
       "\n",
       "   ObjectId  \n",
       "0         1  \n",
       "1         2  \n",
       "2         3  \n",
       "3         4  \n",
       "4         5  "
      ]
     },
     "execution_count": 350,
     "metadata": {},
     "output_type": "execute_result"
    }
   ],
   "source": [
    "df.head()"
   ]
  },
  {
   "attachments": {},
   "cell_type": "markdown",
   "metadata": {},
   "source": [
    "What else do we need to clean up in this dataset? How many unique ItemCollections are there? Do those need help?"
   ]
  },
  {
   "cell_type": "code",
   "execution_count": 351,
   "metadata": {},
   "outputs": [
    {
     "data": {
      "text/plain": [
       "array(['Adult Non-Fiction', 'ELL Collection', 'Adult Fiction', 'Mystery',\n",
       "       'Adult Audiobook', 'Adult DVD', 'Electronic', 'Music',\n",
       "       \"Children's Picture Book\", 'Science Fiction',\n",
       "       'Book Discussion Kit', 'Older Teen Fiction',\n",
       "       'Younger Teen  Fiction', 'Adult Paperback', \"Children's Fiction\",\n",
       "       'Western', \"Children's Picture Paperback\", \"Children's Paperback\",\n",
       "       'International Collection', 'Teen Non-Fiction',\n",
       "       \"Children's Non-Fiction\", 'Kentucky History', 'Natural Resources',\n",
       "       'Oversize', 'Holiday', 'Urban Fiction', 'Bestsellers',\n",
       "       \"Children's Board Book\", 'Storytime Collection',\n",
       "       'Preschool  Picture Book', \"Children's Easy Reader\", 'Readalongs',\n",
       "       \"Children's DVD\", \"Children's Reference\", 'Adult Reference',\n",
       "       'Interlibrary Loan', \"Children's Music\", nan,\n",
       "       'Adult Paperbacks Tall', \"Children's Easy Reader Paperback\",\n",
       "       'Large Print', 'Caldecott/Newbery', \"Children's Audiobook\",\n",
       "       'OlderTeen Audiobook', 'Younger Teen  Audiobook', 'Laptop',\n",
       "       'Younger Teen  Paperback', 'Teen Non-Fiction Audiobook',\n",
       "       'Government Documents', \"Children's Blu-ray\", 'Adult Blu-Ray',\n",
       "       'Telereference', \"Children's Non-Fiction Paperback\", 'Big Book',\n",
       "       \"Children's Magazine\", 'Older Teen Paperback',\n",
       "       'Magazines and Newspaper', 'Teen Reference', 'College Shop',\n",
       "       'Board Game', 'Listening Device', 'Telescope', 'Digital Camera',\n",
       "       'Launchpad', 'Hotspot'], dtype=object)"
      ]
     },
     "execution_count": 351,
     "metadata": {},
     "output_type": "execute_result"
    }
   ],
   "source": [
    "df.ItemCollection.unique()"
   ]
  },
  {
   "attachments": {},
   "cell_type": "markdown",
   "metadata": {},
   "source": [
    "There is one \"nan\" value in here. Let's find it and destroy it?"
   ]
  },
  {
   "cell_type": "code",
   "execution_count": 352,
   "metadata": {},
   "outputs": [],
   "source": [
    "df2 = df.loc[df['ItemCollection'] == 'nan']"
   ]
  },
  {
   "cell_type": "code",
   "execution_count": 353,
   "metadata": {},
   "outputs": [
    {
     "name": "stdout",
     "output_type": "stream",
     "text": [
      "Empty DataFrame\n",
      "Columns: [BibNum, Title, Author, ISBN, PublicationYear, ItemType, ItemCollection, ItemLocation, ItemPrice, ReportDate, ObjectId]\n",
      "Index: []\n"
     ]
    }
   ],
   "source": [
    "print(df2)"
   ]
  },
  {
   "attachments": {},
   "cell_type": "markdown",
   "metadata": {},
   "source": [
    "Okay so maybe that was a placeholder because that query returns an empty dataframe. This is actually a really clean dataset so far. I approve of LFPL. One thing that might make it easier to work with is cleaning up the ItemPrice column. I can round those to the nearest dollar since we have values like 19.99 and 20.00. Using 20.00 across the board would make things a lot more succinct. Let's do that next. I can use the ceiling function here. "
   ]
  },
  {
   "cell_type": "code",
   "execution_count": 354,
   "metadata": {},
   "outputs": [],
   "source": [
    "df['ItemPrice'] = df['ItemPrice'].apply(np.ceil)"
   ]
  },
  {
   "cell_type": "code",
   "execution_count": 355,
   "metadata": {},
   "outputs": [
    {
     "data": {
      "text/html": [
       "<div>\n",
       "<style scoped>\n",
       "    .dataframe tbody tr th:only-of-type {\n",
       "        vertical-align: middle;\n",
       "    }\n",
       "\n",
       "    .dataframe tbody tr th {\n",
       "        vertical-align: top;\n",
       "    }\n",
       "\n",
       "    .dataframe thead th {\n",
       "        text-align: right;\n",
       "    }\n",
       "</style>\n",
       "<table border=\"1\" class=\"dataframe\">\n",
       "  <thead>\n",
       "    <tr style=\"text-align: right;\">\n",
       "      <th></th>\n",
       "      <th>BibNum</th>\n",
       "      <th>Title</th>\n",
       "      <th>Author</th>\n",
       "      <th>ISBN</th>\n",
       "      <th>PublicationYear</th>\n",
       "      <th>ItemType</th>\n",
       "      <th>ItemCollection</th>\n",
       "      <th>ItemLocation</th>\n",
       "      <th>ItemPrice</th>\n",
       "      <th>ReportDate</th>\n",
       "      <th>ObjectId</th>\n",
       "    </tr>\n",
       "  </thead>\n",
       "  <tbody>\n",
       "    <tr>\n",
       "      <th>0</th>\n",
       "      <td>707409</td>\n",
       "      <td>Jeff Immelt and the new GE way : innovation, t...</td>\n",
       "      <td>Magee, David, 1965-</td>\n",
       "      <td>9780071605878</td>\n",
       "      <td>2009</td>\n",
       "      <td>Book</td>\n",
       "      <td>Adult Non-Fiction</td>\n",
       "      <td>Main</td>\n",
       "      <td>26.0</td>\n",
       "      <td>2022/07/01 04:00:00+00</td>\n",
       "      <td>1</td>\n",
       "    </tr>\n",
       "    <tr>\n",
       "      <th>1</th>\n",
       "      <td>1341361</td>\n",
       "      <td>McGraw-Hill's American idioms dictionary</td>\n",
       "      <td>Spears, Richard A.</td>\n",
       "      <td>9780071478939</td>\n",
       "      <td>2007</td>\n",
       "      <td>Book</td>\n",
       "      <td>ELL Collection</td>\n",
       "      <td>South Central</td>\n",
       "      <td>20.0</td>\n",
       "      <td>2022/07/01 04:00:00+00</td>\n",
       "      <td>2</td>\n",
       "    </tr>\n",
       "    <tr>\n",
       "      <th>2</th>\n",
       "      <td>707411</td>\n",
       "      <td>Robin rescues dinner : 52 weeks of quick-fix m...</td>\n",
       "      <td>Miller, Robin, 1964-</td>\n",
       "      <td>9780307451408</td>\n",
       "      <td>2009</td>\n",
       "      <td>Book</td>\n",
       "      <td>Adult Non-Fiction</td>\n",
       "      <td>Southwest</td>\n",
       "      <td>20.0</td>\n",
       "      <td>2022/07/01 04:00:00+00</td>\n",
       "      <td>3</td>\n",
       "    </tr>\n",
       "    <tr>\n",
       "      <th>3</th>\n",
       "      <td>1341362</td>\n",
       "      <td>McGraw-Hill's essential ESL grammar : a handbo...</td>\n",
       "      <td>Lester, Mark.</td>\n",
       "      <td>9780071496421</td>\n",
       "      <td>2008</td>\n",
       "      <td>Book</td>\n",
       "      <td>ELL Collection</td>\n",
       "      <td>South Central</td>\n",
       "      <td>20.0</td>\n",
       "      <td>2022/07/01 04:00:00+00</td>\n",
       "      <td>4</td>\n",
       "    </tr>\n",
       "    <tr>\n",
       "      <th>4</th>\n",
       "      <td>707411</td>\n",
       "      <td>Robin rescues dinner : 52 weeks of quick-fix m...</td>\n",
       "      <td>Miller, Robin, 1964-</td>\n",
       "      <td>9780307451408</td>\n",
       "      <td>2009</td>\n",
       "      <td>Book</td>\n",
       "      <td>Adult Non-Fiction</td>\n",
       "      <td>Southwest</td>\n",
       "      <td>20.0</td>\n",
       "      <td>2022/07/01 04:00:00+00</td>\n",
       "      <td>5</td>\n",
       "    </tr>\n",
       "  </tbody>\n",
       "</table>\n",
       "</div>"
      ],
      "text/plain": [
       "    BibNum                                              Title  \\\n",
       "0   707409  Jeff Immelt and the new GE way : innovation, t...   \n",
       "1  1341361           McGraw-Hill's American idioms dictionary   \n",
       "2   707411  Robin rescues dinner : 52 weeks of quick-fix m...   \n",
       "3  1341362  McGraw-Hill's essential ESL grammar : a handbo...   \n",
       "4   707411  Robin rescues dinner : 52 weeks of quick-fix m...   \n",
       "\n",
       "                 Author           ISBN  PublicationYear ItemType  \\\n",
       "0   Magee, David, 1965-  9780071605878             2009     Book   \n",
       "1    Spears, Richard A.  9780071478939             2007     Book   \n",
       "2  Miller, Robin, 1964-  9780307451408             2009     Book   \n",
       "3         Lester, Mark.  9780071496421             2008     Book   \n",
       "4  Miller, Robin, 1964-  9780307451408             2009     Book   \n",
       "\n",
       "      ItemCollection   ItemLocation  ItemPrice              ReportDate  \\\n",
       "0  Adult Non-Fiction           Main       26.0  2022/07/01 04:00:00+00   \n",
       "1     ELL Collection  South Central       20.0  2022/07/01 04:00:00+00   \n",
       "2  Adult Non-Fiction      Southwest       20.0  2022/07/01 04:00:00+00   \n",
       "3     ELL Collection  South Central       20.0  2022/07/01 04:00:00+00   \n",
       "4  Adult Non-Fiction      Southwest       20.0  2022/07/01 04:00:00+00   \n",
       "\n",
       "   ObjectId  \n",
       "0         1  \n",
       "1         2  \n",
       "2         3  \n",
       "3         4  \n",
       "4         5  "
      ]
     },
     "execution_count": 355,
     "metadata": {},
     "output_type": "execute_result"
    }
   ],
   "source": [
    "df.head()"
   ]
  },
  {
   "attachments": {},
   "cell_type": "markdown",
   "metadata": {},
   "source": [
    "It looks like the prices are now rounded up to 20.0 instead of 19.99, which should be a little easier to work with. I think that makes the cleaning element number 2 and this dataset is actually really well maintained so there won't be much more to edit/clean here. But it might be fun to work with in the future. "
   ]
  }
 ],
 "metadata": {
  "kernelspec": {
   "display_name": "Python 3.10.7 64-bit",
   "language": "python",
   "name": "python3"
  },
  "language_info": {
   "codemirror_mode": {
    "name": "ipython",
    "version": 3
   },
   "file_extension": ".py",
   "mimetype": "text/x-python",
   "name": "python",
   "nbconvert_exporter": "python",
   "pygments_lexer": "ipython3",
   "version": "3.10.7"
  },
  "orig_nbformat": 4,
  "vscode": {
   "interpreter": {
    "hash": "2e9c25df0253b19710fd2eabc0119b804c820fc74e8ba938ebab686d76fc4dfb"
   }
  }
 },
 "nbformat": 4,
 "nbformat_minor": 2
}
